{
 "cells": [
  {
   "cell_type": "code",
   "execution_count": 2,
   "metadata": {},
   "outputs": [],
   "source": [
    "import spacy\n",
    "nlp = spacy.load('en_core_web_sm')"
   ]
  },
  {
   "cell_type": "code",
   "execution_count": 4,
   "metadata": {},
   "outputs": [
    {
     "name": "stdout",
     "output_type": "stream",
     "text": [
      "{'in', 'into', 'doing', 'and', 'mostly', 'our', 'thereafter', 'becoming', 'due', 'up', 'therefore', 'one', 'along', 'hereby', 'each', 'former', 'something', 'take', 'if', 'side', 'ever', 'therein', 'see', 'hence', 'serious', 'using', 'anyhow', 'his', 'for', 'he', 'beside', 'someone', 'everything', 'front', 'as', 'without', 'everywhere', 'from', 'also', 'yourselves', 'many', 'there', 'herself', 'just', 'below', 'less', 'those', 'regarding', 'should', 'mine', 'throughout', 'becomes', 'ten', 'third', 'be', 'meanwhile', 'so', 'toward', 'because', 'until', 'then', 'amount', 'nine', 'nobody', 'me', 'wherever', 'nevertheless', 'all', 'sometime', 'anything', 'she', 'beyond', 'hereafter', 'across', 'eleven', 'move', 'ca', 'own', 'them', 'most', 'although', 'please', 'another', 'its', 'must', 'when', 'has', 'whatever', 'your', 'used', 'whereupon', 'yours', 'every', 'never', 'six', 'among', 'amongst', 'cannot', 'either', 'hereupon', 'others', 'above', 'still', 'under', 'even', 'make', 'out', 'whenever', 'anyway', 'yet', 'seemed', 'been', 'a', 'first', 'through', 'perhaps', 'around', 'within', 'besides', 'off', 'which', 'no', 'against', 'became', 'neither', 'about', 'noone', 'whether', 'four', 'same', 'very', 're', 'to', 'while', 'sixty', 'seem', 'much', 'several', 'him', 'anyone', 'well', 'show', 'elsewhere', 'formerly', 'ourselves', 'fifteen', 'whereby', 'will', 'else', 'this', 'down', 'herein', 'i', 'forty', 'nothing', 'though', 'twelve', 'upon', 'however', 'whose', 'part', 'himself', 'sometimes', 'everyone', 'that', 'twenty', 'towards', 'indeed', 'put', 'always', 'during', 'few', 'is', 'only', 'by', 'her', 'keep', 'who', 'of', 'had', 'rather', 'least', 'whoever', 'three', 'you', 'alone', 'could', 'with', 'between', 'do', 'nor', 'might', 'together', 'via', 'but', 'wherein', 'again', 'two', 'whereas', 'yourself', 'enough', 'anywhere', 'none', 'often', 'some', 'seeming', 'than', 'their', 'at', 'these', 'thru', 'go', 'they', 'thus', 'or', 'afterwards', 'my', 'after', 'moreover', 'would', 'may', 'us', 'does', 'being', 'except', 'now', 'why', 'eight', 'name', 'various', 'hundred', 'it', 'thereby', 'thereupon', 'call', 'not', 'somewhere', 'whereafter', 'other', 'otherwise', 'somehow', 'beforehand', 'five', 'whence', 'here', 'whither', 'whole', 'seems', 'more', 'last', 'itself', 'next', 'back', 'made', 'give', 'before', 'over', 'top', 'bottom', 'myself', 'am', 'almost', 'really', 'can', 'latterly', 'an', 'are', 'nowhere', 'the', 'once', 'such', 'already', 'full', 'were', 'get', 'hers', 'onto', 'unless', 'namely', 'themselves', 'any', 'too', 'further', 'was', 'empty', 'did', 'thence', 'become', 'behind', 'fifty', 'per', 'both', 'since', 'done', 'say', 'have', 'where', 'whom', 'how', 'we', 'what', 'latter', 'on', 'quite', 'ours'}\n"
     ]
    }
   ],
   "source": [
    "print(nlp.Defaults.stop_words)"
   ]
  },
  {
   "cell_type": "code",
   "execution_count": 5,
   "metadata": {},
   "outputs": [
    {
     "data": {
      "text/plain": [
       "305"
      ]
     },
     "execution_count": 5,
     "metadata": {},
     "output_type": "execute_result"
    }
   ],
   "source": [
    "len(nlp.Defaults.stop_words)"
   ]
  },
  {
   "cell_type": "code",
   "execution_count": 8,
   "metadata": {},
   "outputs": [
    {
     "data": {
      "text/plain": [
       "False"
      ]
     },
     "execution_count": 8,
     "metadata": {},
     "output_type": "execute_result"
    }
   ],
   "source": [
    "nlp.vocab['mystery'].is_stop"
   ]
  },
  {
   "cell_type": "code",
   "execution_count": 9,
   "metadata": {},
   "outputs": [
    {
     "data": {
      "text/plain": [
       "True"
      ]
     },
     "execution_count": 9,
     "metadata": {},
     "output_type": "execute_result"
    }
   ],
   "source": [
    "nlp.vocab['is'].is_stop"
   ]
  },
  {
   "cell_type": "code",
   "execution_count": 11,
   "metadata": {},
   "outputs": [],
   "source": [
    "nlp.Defaults.stop_words.add('btw')"
   ]
  },
  {
   "cell_type": "code",
   "execution_count": 13,
   "metadata": {},
   "outputs": [],
   "source": [
    "nlp.vocab['btw'].is_stop = True"
   ]
  },
  {
   "cell_type": "code",
   "execution_count": 14,
   "metadata": {},
   "outputs": [
    {
     "data": {
      "text/plain": [
       "306"
      ]
     },
     "execution_count": 14,
     "metadata": {},
     "output_type": "execute_result"
    }
   ],
   "source": [
    "len(nlp.Defaults.stop_words)"
   ]
  },
  {
   "cell_type": "code",
   "execution_count": 15,
   "metadata": {},
   "outputs": [
    {
     "data": {
      "text/plain": [
       "True"
      ]
     },
     "execution_count": 15,
     "metadata": {},
     "output_type": "execute_result"
    }
   ],
   "source": [
    "nlp.vocab['btw'].is_stop"
   ]
  },
  {
   "cell_type": "code",
   "execution_count": 16,
   "metadata": {},
   "outputs": [],
   "source": [
    "nlp.Defaults.stop_words.remove('beyond')"
   ]
  },
  {
   "cell_type": "code",
   "execution_count": 17,
   "metadata": {},
   "outputs": [],
   "source": [
    "nlp.vocab['beyond'].is_stop = False"
   ]
  },
  {
   "cell_type": "code",
   "execution_count": 18,
   "metadata": {},
   "outputs": [
    {
     "data": {
      "text/plain": [
       "False"
      ]
     },
     "execution_count": 18,
     "metadata": {},
     "output_type": "execute_result"
    }
   ],
   "source": [
    "nlp.vocab['beyond'].is_stop"
   ]
  },
  {
   "cell_type": "code",
   "execution_count": null,
   "metadata": {},
   "outputs": [],
   "source": []
  }
 ],
 "metadata": {
  "kernelspec": {
   "display_name": "nlp_course",
   "language": "python",
   "name": "python3"
  },
  "language_info": {
   "codemirror_mode": {
    "name": "ipython",
    "version": 3
   },
   "file_extension": ".py",
   "mimetype": "text/x-python",
   "name": "python",
   "nbconvert_exporter": "python",
   "pygments_lexer": "ipython3",
   "version": "3.7.16"
  }
 },
 "nbformat": 4,
 "nbformat_minor": 2
}
